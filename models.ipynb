{
 "cells": [
  {
   "cell_type": "code",
   "execution_count": null,
   "id": "505cb95a",
   "metadata": {},
   "outputs": [],
   "source": [
    "import requests\n",
    "import numpy as np\n",
    "import pandas as pd\n",
    "import geopandas as gpd\n",
    "import rtree\n",
    "\n",
    "from scipy.spatial import distance\n",
    "from scipy.spatial.distance import cdist\n",
    "from scipy import stats\n",
    "import libpysal as ps \n",
    "from mgwr.gwr import GWR, MGWR\n",
    "from mgwr.sel_bw import Sel_BW\n",
    "from mgwr.utils import shift_colormap, truncate_colormap\n",
    "\n",
    "import matplotlib.pyplot as plt\n",
    "from matplotlib.colors import to_hex\n",
    "from matplotlib.colors import ListedColormap\n",
    "import seaborn as sns\n",
    "\n",
    "\n",
    "from scipy.stats import jarque_bera, kstest\n",
    "from statsmodels.compat import lzip\n",
    "from sklearn.model_selection import train_test_split, cross_validate, RepeatedKFold, GridSearchCV\n",
    "from sklearn.preprocessing import StandardScaler\n",
    "from sklearn.ensemble import RandomForestRegressor\n",
    "from sklearn.linear_model import Lasso, LassoCV\n",
    "from sklearn.metrics import r2_score, mean_absolute_error, mean_squared_error\n",
    "from sklearn.decomposition import PCA\n",
    "\n",
    "plt.rcParams.update({'font.size': 16})"
   ]
  },
  {
   "cell_type": "markdown",
   "id": "59fb7aa9",
   "metadata": {},
   "source": [
    "# Data Loading"
   ]
  },
  {
   "cell_type": "code",
   "execution_count": null,
   "id": "72c96b8e",
   "metadata": {},
   "outputs": [],
   "source": [
    "### Load dataset\n",
    "\n",
    "social = pd.read_csv('https://raw.githubusercontent.com/nampuero/capstone/main/social_infrastructure/social.csv')"
   ]
  },
  {
   "cell_type": "code",
   "execution_count": null,
   "id": "0be761e4",
   "metadata": {},
   "outputs": [],
   "source": [
    "### Remove Staten Island observations and transform skewed distributions\n",
    "\n",
    "social = social[~social['geolabel'].str.contains('Richmond')]\n",
    "\n",
    "p_root = 3\n",
    "p = social['population'] ** (1/p_root)\n",
    "q = p.quantile([0.25, 0.75]).values\n",
    "o = 1.5 * float(np.diff(q))\n",
    "p_out = [q[0] - o, q[1] + o]\n",
    "\n",
    "w_root = 1\n",
    "w = social['epa_walk'] ** (1/w_root)\n",
    "q = w.quantile([0.25, 0.75]).values\n",
    "o = 1.5 * float(np.diff(q))\n",
    "w_out = [q[0] - o, q[1] + o]\n",
    "\n",
    "fig, ax = plt.subplots(2, 1, figsize=(7, 10))\n",
    "\n",
    "ax[0].hist(p, bins=100)\n",
    "for out in p_out:\n",
    "  ax[0].axvline(out, color='tab:red')\n",
    "ax[0].set_title(f'Population^{p_root} and \"whiskers\"')\n",
    "\n",
    "ax[1].hist(w, bins=100)\n",
    "for out in w_out:\n",
    "  ax[1].axvline(out, color='tab:red')\n",
    "ax[1].set_title('Walkability and \"whiskers\"')\n",
    "\n",
    "plt.show()"
   ]
  },
  {
   "cell_type": "code",
   "execution_count": null,
   "id": "0734c076",
   "metadata": {},
   "outputs": [],
   "source": [
    "### Filter outlier observations for population and walkability\n",
    "\n",
    "social = social.astype(float, errors='ignore')\n",
    "social = social[(social['population'] > 1000) & (social['epa_walk'] > 10)]\n",
    "\n",
    "social['cfb_votes'] = social['cfb_votes'] / social['population'] * 100\n",
    "\n",
    "infra_cols = ['nc_agriculture', 'pluto_church', 'pluto_cultural', 'pluto_outdoor', 'pluto_school']\n",
    "social[infra_cols] = social[infra_cols].apply(lambda x: x / social['population'])\n",
    "\n",
    "\n",
    "log_cols = ['acs_bachelors', 'acs_income']\n",
    "cols = [f'{col}_log' for col in log_cols]\n",
    "social[log_cols] = social[log_cols].astype(float)\n",
    "social[cols] = social[log_cols].apply(lambda x: np.log(x+1))\n",
    "\n",
    "social['noise'] = np.random.randn(len(social))\n",
    "\n",
    "social.drop(columns=['geolabel', 'population', 'area', *log_cols], inplace=True)\n",
    "len(social)"
   ]
  },
  {
   "cell_type": "code",
   "execution_count": null,
   "id": "00d2ec5e",
   "metadata": {},
   "outputs": [],
   "source": [
    "boro_counties_name = {'Manhattan': '061', 'Bronx': '005', 'Brooklyn': '047', 'Queens': '081', 'Staten Island': '085'}"
   ]
  },
  {
   "cell_type": "code",
   "execution_count": null,
   "id": "15d8131d",
   "metadata": {},
   "outputs": [],
   "source": [
    "### merge variables with shapefile for visualization\n",
    "\n",
    "tract2 = gpd.read_file('nyct2010_21c/nyct2010.shp').to_crs(epsg=4269)\n",
    "tract2 = tract2[~(tract2['BoroCode'] == '5')]\n",
    "countycode_dict = {'1':'061', '2':'005', '3':'047', '4':'081'}\n",
    "tract2['BoroCode'] = tract2['BoroCode'].map(countycode_dict)\n",
    "tract2['geoid'] = ('36' + tract2['BoroCode'].str.zfill(3) + tract2['CT2010'].str.zfill(6)).astype(int)"
   ]
  },
  {
   "cell_type": "code",
   "execution_count": null,
   "id": "914a7e89",
   "metadata": {},
   "outputs": [],
   "source": [
    "social_geo = gpd.GeoDataFrame(social.merge(tract2[['geoid','geometry']]))"
   ]
  },
  {
   "cell_type": "markdown",
   "id": "f17b533d",
   "metadata": {},
   "source": [
    "# Feature Engineering"
   ]
  },
  {
   "cell_type": "code",
   "execution_count": null,
   "id": "eb718004",
   "metadata": {},
   "outputs": [],
   "source": [
    "import scipy\n",
    "import scipy.cluster.hierarchy as sch\n",
    "\n",
    "def cluster_corr(corr_array, inplace=False):\n",
    "    \"\"\"\n",
    "    Rearranges the correlation matrix, corr_array, so that groups of highly \n",
    "    correlated variables are next to eachother \n",
    "    \n",
    "    Parameters\n",
    "    ----------\n",
    "    corr_array : pandas.DataFrame or numpy.ndarray\n",
    "        a NxN correlation matrix \n",
    "        \n",
    "    Returns\n",
    "    -------\n",
    "    pandas.DataFrame or numpy.ndarray\n",
    "        a NxN correlation matrix with the columns and rows rearranged\n",
    "    \"\"\"\n",
    "    pairwise_distances = sch.distance.pdist(corr_array)\n",
    "    linkage = sch.linkage(pairwise_distances, method='complete')\n",
    "    cluster_distance_threshold = pairwise_distances.max()/2\n",
    "    idx_to_cluster_array = sch.fcluster(linkage, cluster_distance_threshold, \n",
    "                                        criterion='distance')\n",
    "    idx = np.argsort(idx_to_cluster_array)\n",
    "    \n",
    "    if not inplace:\n",
    "        corr_array = corr_array.copy()\n",
    "    \n",
    "    if isinstance(corr_array, pd.DataFrame):\n",
    "        return corr_array.iloc[idx, :].T.iloc[idx, :]\n",
    "    return corr_array[idx, :][:, idx]"
   ]
  },
  {
   "cell_type": "code",
   "execution_count": null,
   "id": "6ac83864",
   "metadata": {},
   "outputs": [],
   "source": [
    "fig, ax = plt.subplots(figsize=(14,10))\n",
    "sns.heatmap(cluster_corr(social.corr()), cmap='seismic')"
   ]
  },
  {
   "cell_type": "code",
   "execution_count": null,
   "id": "b37c2cce",
   "metadata": {},
   "outputs": [],
   "source": [
    "abs(social.drop(columns=['density','geoid']).corr())['cdc_mental'].sort_values()"
   ]
  },
  {
   "cell_type": "markdown",
   "id": "1b583aa6",
   "metadata": {},
   "source": [
    "### Transform three most correllated and multicollinear features into single PCA"
   ]
  },
  {
   "cell_type": "code",
   "execution_count": null,
   "id": "524806d6",
   "metadata": {},
   "outputs": [],
   "source": [
    "X1 = social[['acs_bachelors_log', 'acs_income_log', 'cdc_physical']]\n",
    "\n",
    "sc = StandardScaler()\n",
    "X1_sc = sc.fit_transform(X1)"
   ]
  },
  {
   "cell_type": "code",
   "execution_count": null,
   "id": "68d9d172",
   "metadata": {
    "scrolled": false
   },
   "outputs": [],
   "source": [
    "#perform PC decomposition\n",
    "pca = PCA(X1_sc.shape[1])\n",
    "pca1 = pca.fit_transform(X1_sc)\n",
    "eigenvalues = pca.explained_variance_ratio_\n",
    "#plot explained variance over the number of compinents\n",
    "n=X1_sc.shape[1]\n",
    "plt.bar(np.arange(n), eigenvalues[:n].cumsum())\n",
    "plt.xlabel(\"Number of components\")\n",
    "plt.ylabel(\"Explained Variance\")\n",
    "plt.show()"
   ]
  },
  {
   "cell_type": "code",
   "execution_count": null,
   "id": "11581a07",
   "metadata": {
    "scrolled": true
   },
   "outputs": [],
   "source": [
    "#perform PC decomposition over data311\n",
    "pca = PCA(1)\n",
    "PCA1 = pca.fit_transform(X1_sc)\n"
   ]
  },
  {
   "cell_type": "code",
   "execution_count": null,
   "id": "7fa99189",
   "metadata": {},
   "outputs": [],
   "source": [
    "social['econ_ed_phys_PCA'] = PCA1"
   ]
  },
  {
   "cell_type": "markdown",
   "id": "b90bc219",
   "metadata": {},
   "source": [
    "# Define Feature Lists"
   ]
  },
  {
   "cell_type": "code",
   "execution_count": null,
   "id": "54f1ea59",
   "metadata": {},
   "outputs": [],
   "source": [
    "features = sorted(['cdc_physical', 'acs_participation', 'acs_uninsured', 'acs_white', 'acs_foreign', 'acs_child',\n",
    "       'acs_commute60', 'epa_walk', 'cfb_votes', 'nypd_violent', 'nc_agriculture',  'pluto_vacant', \n",
    "        'pluto_church', 'pluto_school', 'pluto_cultural', 'pluto_outdoor', 'acs_bachelors_log',\n",
    "        'acs_income_log', 'noise', 'census_response'])"
   ]
  },
  {
   "cell_type": "code",
   "execution_count": null,
   "id": "864b67f4",
   "metadata": {},
   "outputs": [],
   "source": [
    "pca_features = sorted(['acs_participation', 'acs_uninsured', 'acs_white', 'acs_foreign', 'acs_child',\n",
    "       'acs_commute60', 'epa_walk', 'cfb_votes', 'nypd_violent', 'nc_agriculture', 'pluto_vacant', \n",
    "        'pluto_church', 'pluto_school', 'pluto_cultural', 'pluto_outdoor', \n",
    "                           'econ_ed_phys_PCA', 'noise', 'census_response'])\n"
   ]
  },
  {
   "cell_type": "markdown",
   "id": "af3d0701",
   "metadata": {},
   "source": [
    "# Geographic Weighted Regression"
   ]
  },
  {
   "cell_type": "code",
   "execution_count": null,
   "id": "9635353f",
   "metadata": {},
   "outputs": [],
   "source": [
    "### Import Census Tract Centorid Point Locations for GWR calibration"
   ]
  },
  {
   "cell_type": "code",
   "execution_count": null,
   "id": "f4da5a0e",
   "metadata": {},
   "outputs": [],
   "source": [
    "centroids = gpd.read_file('popctr_tracts2010/popctr_tracts2010.shp')\n",
    "centroids.columns = centroids.columns.str.lower()\n",
    "centroids['geoid'] = ('36' + centroids['county'].str.zfill(3) + centroids['tract'].str.zfill(6)).astype(int)\n",
    "centroids['geoid'] = centroids['geoid'].astype(int)\n",
    "centroids = centroids[centroids['county'].isin(['061','005','047','081','085'])]\n",
    "centroids = centroids[centroids['state'] == '36']"
   ]
  },
  {
   "cell_type": "code",
   "execution_count": null,
   "id": "1bcd4b44",
   "metadata": {},
   "outputs": [],
   "source": [
    "### Merge variables dataframe with centroid geometries on 'geoid'\n",
    "\n",
    "social_gwr = gpd.GeoDataFrame(social.merge(centroids))"
   ]
  },
  {
   "cell_type": "code",
   "execution_count": null,
   "id": "217164fb",
   "metadata": {
    "scrolled": true
   },
   "outputs": [],
   "source": [
    "coordinates = np.column_stack([social_gwr.to_crs('EPSG:4326').longitude,\n",
    "                                  social_gwr.to_crs('EPSG:4326').latitude])"
   ]
  },
  {
   "cell_type": "code",
   "execution_count": null,
   "id": "23f1cfcc",
   "metadata": {},
   "outputs": [],
   "source": [
    "# Define target and independent variables\n",
    "\n",
    "X = social[pca_features]\n",
    "y = social['cdc_mental']\n",
    "y = np.array(y).reshape((-1,1))\n",
    "\n",
    "# Standardize features and target variable for regression\n",
    "\n",
    "sc = StandardScaler()\n",
    "X_sc = sc.fit_transform(X)\n",
    "y_sc = sc.fit_transform(y)"
   ]
  },
  {
   "cell_type": "code",
   "execution_count": null,
   "id": "7b364b15",
   "metadata": {
    "scrolled": true
   },
   "outputs": [],
   "source": [
    "gwr_selector = Sel_BW(coordinates, y_sc, X_sc, spherical=True)\n",
    "gwr_bw = gwr_selector.search(bw_min=2)\n",
    "print(gwr_bw)"
   ]
  },
  {
   "cell_type": "code",
   "execution_count": null,
   "id": "cee2c5d6",
   "metadata": {},
   "outputs": [],
   "source": [
    "gwr_results = GWR(coordinates, y, X_sc, gwr_bw, spherical=True).fit()"
   ]
  },
  {
   "cell_type": "code",
   "execution_count": null,
   "id": "3360e3a0",
   "metadata": {
    "scrolled": false
   },
   "outputs": [],
   "source": [
    "gwr_results.summary()"
   ]
  },
  {
   "cell_type": "code",
   "execution_count": null,
   "id": "0977c27e",
   "metadata": {},
   "outputs": [],
   "source": [
    "#Prepare GWR results for mapping\n",
    "\n",
    "gwr_viz = social_geo[['geoid','cdc_mental','geometry']].copy()\n",
    "\n",
    "\n",
    "#Add GWR parameters to GeoDataframe\n",
    "\n",
    "for i,j in enumerate(pca_features):\n",
    "    gwr_viz['gwr_intercept'] = gwr_results.params[:,0]\n",
    "    gwr_viz['coef_'+j] = gwr_results.params[:,(i+1)]\n",
    "\n",
    "gwr_viz['R2'] = gwr_results.localR2\n",
    "gwr_viz['residual'] = gwr_results.std_res\n",
    "\n",
    "#Obtain t-vals filtered based on multiple testing correction\n",
    "gwr_filtered_t = gwr_results.filter_tvals()"
   ]
  },
  {
   "cell_type": "code",
   "execution_count": null,
   "id": "a08a842c",
   "metadata": {},
   "outputs": [],
   "source": [
    "gwr_viz.head()"
   ]
  },
  {
   "cell_type": "code",
   "execution_count": null,
   "id": "b1f0846c",
   "metadata": {
    "scrolled": false
   },
   "outputs": [],
   "source": [
    "# Plot estimated global GWR coefficients\n",
    "\n",
    "coefficients = {\n",
    "    'feat': pca_features,\n",
    "    'coef': gwr_results.params.mean(axis=0)[1:],\n",
    "    'min' : gwr_results.params.min(axis=0)[1:],\n",
    "    'max' : gwr_results.params.max(axis=0)[1:],\n",
    "    'abs': np.abs(gwr_results.params.mean(axis=0)[1:]),\n",
    "    'std': gwr_results.params.std(axis=0)[1:]\n",
    "}\n",
    "coefficients = pd.DataFrame(coefficients).sort_values('abs')\n",
    "noise_coef = coefficients.loc[coefficients['feat'] == 'noise', 'abs'].values\n",
    "color = np.where(np.array(coefficients['abs']) > noise_coef, 'tab:blue', 'tab:red')\n",
    "\n",
    "fig, ax = plt.subplots(figsize=(7, 8))\n",
    "coefficients.plot.barh('feat', 'coef', xerr='std', color=color, ax=ax, legend=False)\n",
    "plt.axvline(0, color='grey', linestyle='--')\n",
    "ax.set(title=f\"Feature importance, Geographic Weighted Regression model\\n\", xlabel=\"Normalized coeficient\", ylabel=\"\")\n",
    "fig.tight_layout()"
   ]
  },
  {
   "cell_type": "code",
   "execution_count": null,
   "id": "0a535426",
   "metadata": {},
   "outputs": [],
   "source": [
    "coefficients"
   ]
  },
  {
   "cell_type": "code",
   "execution_count": null,
   "id": "f5b89993",
   "metadata": {
    "scrolled": false
   },
   "outputs": [],
   "source": [
    "## Visualize GWR coefficient values for \"nc_agriculture\" variable\n",
    "\n",
    "#Define min and max values\n",
    "gwr_min = gwr_viz['coef_nc_agriculture'].min()\n",
    "gwr_max = gwr_viz['coef_nc_agriculture'].max()\n",
    "vmin = round(np.min(gwr_min), 3)\n",
    "vmax = round(np.max(gwr_max), 3)\n",
    "\n",
    "# add axes\n",
    "fig, ax = plt.subplots(nrows=1, ncols=1, figsize=(45,20))\n",
    "ax.set_title(f'GWR \"nc_agriculture\" Surface (BW: {str(gwr_bw)}) \\n\\n Coefficient Range: {str(vmin)} , {str(vmax)}', fontsize=40)\n",
    "\n",
    "\n",
    "#Set color map\n",
    "cmap = plt.cm.seismic\n",
    "\n",
    "#If all values are negative use the negative half of the colormap\n",
    "if (vmin < 0) & (vmax < 0):\n",
    "    cmap = truncate_colormap(cmap, 0.0, 0.5)\n",
    "#If all values are positive use the positive half of the colormap\n",
    "elif (vmin > 0) & (vmax > 0):\n",
    "    cmap = truncate_colormap(cmap, 0.5, 1.0)\n",
    "#Otherwise, there are positive and negative values so the colormap so zero is the midpoint\n",
    "else:\n",
    "    cmap = shift_colormap(cmap, start=0.0, midpoint=1 - vmax/(vmax + abs(vmin)), stop=1.)\n",
    "\n",
    "#Create colorbar\n",
    "sm = plt.cm.ScalarMappable(cmap=cmap, norm=plt.Normalize(vmin=vmin, vmax=vmax))\n",
    "\n",
    "#Plot GWR parameters\n",
    "tract2.plot(**{'edgecolor':'black', 'alpha':.4}, ax=ax, color='gray', hatch='\\\\\\\\\\\\\\\\')\n",
    "gwr_viz.plot('coef_nc_agriculture', cmap=sm.cmap, ax=ax, vmin=vmin, vmax=vmax, **{'edgecolor':'black', 'alpha':.8})\n",
    "\n",
    "#Plot gray over insignificant regions\n",
    "if (gwr_filtered_t[:,0] == 0).any():\n",
    "    gwr_viz[gwr_filtered_t[:,0] == 0].plot(color='lightgrey', ax=ax, **{'edgecolor':'black'})\n",
    "    \n",
    "try:\n",
    "    fig.tight_layout()    \n",
    "    fig.subplots_adjust(right=0.9)\n",
    "    cax = fig.add_axes([0.63, 0.12, 0.04, 0.70])\n",
    "    cbar = fig.colorbar(sm, cax=cax)\n",
    "    cbar.ax.tick_params(labelsize=20) \n",
    "    cbar.ax.set_xticklabels(ax.get_xticks())\n",
    "    plt.axis('off')\n",
    "    plt.show()\n",
    "except ValueError:\n",
    "    pass"
   ]
  },
  {
   "cell_type": "code",
   "execution_count": null,
   "id": "71346690",
   "metadata": {},
   "outputs": [],
   "source": [
    "## plot distribution of coefficients\n",
    "\n",
    "sns.histplot(gwr_viz['coef_nc_agriculture'], kde=True, color='black')\n",
    "plt.title('Distribution of \"nc_agriculture\" Coefficient Values')"
   ]
  },
  {
   "cell_type": "code",
   "execution_count": null,
   "id": "936d3e15",
   "metadata": {},
   "outputs": [],
   "source": [
    "result = (kstest(gwr_viz['coef_nc_agriculture'], cdf='norm'))\n",
    "\n",
    "print(f\"K-S statistic: {result[0]}\")\n",
    "print(f\"p-value: {result[1]}\")"
   ]
  },
  {
   "cell_type": "code",
   "execution_count": null,
   "id": "0235d5c4",
   "metadata": {},
   "outputs": [],
   "source": [
    "## Separate tracts with positive and negative coefficient values\n",
    "\n",
    "neg_gardens = gwr_viz[(gwr_viz['coef_nc_agriculture'] < 0)]#gwr_viz['coef_gardens'].quantile(0.25))]\n",
    "pos_gardens = gwr_viz[(gwr_viz['coef_nc_agriculture'] > 0)]#gwr_viz['coef_gardens'].quantile(0.75))]"
   ]
  },
  {
   "cell_type": "code",
   "execution_count": null,
   "id": "eb088584",
   "metadata": {},
   "outputs": [],
   "source": [
    "## Take mean values of variables for both sets of tracts\n",
    "\n",
    "neg_garden_means = social.iloc[:,1:][social['geoid'].isin(neg_gardens['geoid'])].mean()[features]\n",
    "pos_garden_means = social.iloc[:,1:][social['geoid'].isin(pos_gardens['geoid'])].mean()[features]"
   ]
  },
  {
   "cell_type": "code",
   "execution_count": null,
   "id": "ee7155b1",
   "metadata": {},
   "outputs": [],
   "source": [
    "# Combine into single DataFrame\n",
    "\n",
    "garden_compare = pd.concat([pos_garden_means,neg_garden_means], axis=1)\n",
    "garden_compare.columns = ['Negative Coef', 'Positive Coef']\n",
    "garden_compare = garden_compare.drop(index='noise')"
   ]
  },
  {
   "cell_type": "code",
   "execution_count": null,
   "id": "141ac5b4",
   "metadata": {},
   "outputs": [],
   "source": [
    "garden_compare"
   ]
  },
  {
   "cell_type": "code",
   "execution_count": null,
   "id": "2ebb3991",
   "metadata": {
    "scrolled": false
   },
   "outputs": [],
   "source": [
    "##visualize mean values in bar chart\n",
    "\n",
    "ax = garden_compare.div(garden_compare.sum(axis=1), axis=0).plot.bar(figsize=(15,7), color=('dodgerblue','firebrick'))\n",
    "ax.set_title(f'Mean Variable Values By +/- Sign of \"nc_agriculture\" Coef \\n\\n\\\n",
    "Tracts w/ Negative Coefficent: {len(neg_gardens)}\\n Tracts w/ Positive Coefficient: {len(pos_gardens)}',color='black')\n",
    "plt.xticks(rotation=60)\n",
    "plt.legend(loc=2, prop={'size': 11})"
   ]
  },
  {
   "cell_type": "code",
   "execution_count": null,
   "id": "a8228614",
   "metadata": {},
   "outputs": [],
   "source": [
    "## Visualize GWR coefficient values for \"pluto_church\" variable\n",
    "\n",
    "\n",
    "gwr_min = gwr_viz['coef_pluto_church'].min()\n",
    "gwr_max = gwr_viz['coef_pluto_church'].max()\n",
    "vmin = round(np.min(gwr_min), 3)\n",
    "vmax = round(np.max(gwr_max), 3)\n",
    "\n",
    "fig, ax = plt.subplots(nrows=1, ncols=1, figsize=(45,20))\n",
    "ax.set_title(f'GWR \"pluto_church\" Surface (BW: {str(gwr_bw)}) \\n\\n Coefficient Range: {str(vmin)} , {str(vmax)}', fontsize=40)\n",
    "\n",
    "cmap = plt.cm.seismic\n",
    "\n",
    "if (vmin < 0) & (vmax < 0):\n",
    "    cmap = truncate_colormap(cmap, 0.0, 0.5)\n",
    "elif (vmin > 0) & (vmax > 0):\n",
    "    cmap = truncate_colormap(cmap, 0.5, 1.0)\n",
    "else:\n",
    "    cmap = shift_colormap(cmap, start=0.0, midpoint=1 - vmax/(vmax + abs(vmin)), stop=1.)\n",
    "\n",
    "sm = plt.cm.ScalarMappable(cmap=cmap, norm=plt.Normalize(vmin=vmin, vmax=vmax))\n",
    "\n",
    "#Plot GWR parameters\n",
    "tract2.plot(**{'edgecolor':'black', 'alpha':.4}, ax=ax, color='gray', hatch='\\\\\\\\\\\\\\\\')\n",
    "gwr_viz.plot('coef_pluto_church', cmap=sm.cmap, ax=ax, vmin=vmin, vmax=vmax, **{'edgecolor':'black', 'alpha':.6})\n",
    "if (gwr_filtered_t[:,0] == 0).any():\n",
    "    gwr_viz[gwr_filtered_t[:,0] == 0].plot(color='lightgrey', ax=ax, **{'edgecolor':'black'})\n",
    " \n",
    "\n",
    "try:\n",
    "    fig.tight_layout()    \n",
    "    fig.subplots_adjust(right=0.9)\n",
    "    cax = fig.add_axes([0.63, 0.12, 0.04, 0.70])\n",
    "    cbar = fig.colorbar(sm, cax=cax)\n",
    "    cbar.ax.tick_params(labelsize=20) \n",
    "    cbar.ax.set_xticklabels(ax.get_xticks())\n",
    "    plt.axis('off')\n",
    "    plt.show()\n",
    "except ValueError:\n",
    "    pass"
   ]
  },
  {
   "cell_type": "code",
   "execution_count": null,
   "id": "78902508",
   "metadata": {},
   "outputs": [],
   "source": [
    "sns.histplot(gwr_viz['coef_pluto_church'], kde=True, color='black')\n",
    "plt.title('Distribution of \"pluto_school\" Coefficient Values')"
   ]
  },
  {
   "cell_type": "code",
   "execution_count": null,
   "id": "a90fdaf2",
   "metadata": {},
   "outputs": [],
   "source": [
    "result = (gwr_viz['coef_pluto_church'])\n",
    "\n",
    "print(f\"JB statistic: {result[0]}\")\n",
    "print(f\"p-value: {result[1]}\")"
   ]
  },
  {
   "cell_type": "code",
   "execution_count": null,
   "id": "c252000a",
   "metadata": {},
   "outputs": [],
   "source": [
    "neg_social = gwr_viz[gwr_viz['coef_pluto_church'] < 0]\n",
    "pos_social = gwr_viz[gwr_viz['coef_pluto_church'] > 0]\n",
    "\n",
    "neg_social_means = social.iloc[:,1:][social['geoid'].isin(neg_social['geoid'])].mean()[features]\n",
    "pos_social_means = social.iloc[:,1:][social['geoid'].isin(pos_social['geoid'])].mean()[features]\n",
    "\n",
    "social_compare = pd.concat([pos_social_means,neg_social_means], axis=1)\n",
    "social_compare.columns = ['Negative Coef', 'Positive Coef']\n",
    "social_compare = social_compare.drop(index='noise')"
   ]
  },
  {
   "cell_type": "code",
   "execution_count": null,
   "id": "cc37b427",
   "metadata": {},
   "outputs": [],
   "source": [
    "ax = garden_compare.div(garden_compare.sum(axis=1), axis=0).plot.bar(figsize=(15,7), color=('dodgerblue','firebrick'))\n",
    "ax.set_title(f'Mean Variable Values By +/- sign of \"pluto_church\" Coef \\n\\n\\\n",
    "Tracts w/ Negative Coefficent: {len(neg_gardens)}\\n Tracts w/ Positive Coefficient: {len(pos_gardens)}',color='black')\n",
    "plt.xticks(rotation=60)\n",
    "plt.show()"
   ]
  },
  {
   "cell_type": "code",
   "execution_count": null,
   "id": "2fd6d688",
   "metadata": {},
   "outputs": [],
   "source": [
    "## Visualize GWR coefficient values for \"pluto_school\" variable\n",
    "\n",
    "gwr_min = gwr_viz['coef_pluto_school'].min()\n",
    "gwr_max = gwr_viz['coef_pluto_school'].max()\n",
    "vmin = round(np.min(gwr_min), 3)\n",
    "vmax = round(np.max(gwr_max), 3)\n",
    "\n",
    "fig, ax = plt.subplots(nrows=1, ncols=1, figsize=(45,20))\n",
    "ax.set_title(f'GWR \"pluto_school\" Surface (BW: {str(gwr_bw)}) \\n\\n Coefficient Range: {str(vmin)} , {str(vmax)}', fontsize=40)\n",
    "\n",
    "cmap = plt.cm.seismic\n",
    "\n",
    "if (vmin < 0) & (vmax < 0):\n",
    "    cmap = truncate_colormap(cmap, 0.0, 0.5)\n",
    "elif (vmin > 0) & (vmax > 0):\n",
    "    cmap = truncate_colormap(cmap, 0.5, 1.0)\n",
    "else:\n",
    "    cmap = shift_colormap(cmap, start=0.0, midpoint=1 - vmax/(vmax + abs(vmin)), stop=1.)\n",
    "\n",
    "sm = plt.cm.ScalarMappable(cmap=cmap, norm=plt.Normalize(vmin=vmin, vmax=vmax))\n",
    "\n",
    "tract2.plot(**{'edgecolor':'black', 'alpha':.4}, ax=ax, color='gray', hatch='\\\\\\\\\\\\\\\\')\n",
    "gwr_viz.plot('coef_pluto_school', cmap=sm.cmap, ax=ax, vmin=vmin, vmax=vmax, **{'edgecolor':'black', 'alpha':.6})\n",
    "if (gwr_filtered_t[:,0] == 0).any():\n",
    "    gwr_viz[gwr_filtered_t[:,0] == 0].plot(color='lightgrey', ax=ax, **{'edgecolor':'black'})\n",
    " \n",
    "\n",
    "try:\n",
    "    fig.tight_layout()    \n",
    "    fig.subplots_adjust(right=0.9)\n",
    "    cax = fig.add_axes([0.63, 0.12, 0.04, 0.70])\n",
    "    cbar = fig.colorbar(sm, cax=cax)\n",
    "    cbar.ax.tick_params(labelsize=20) \n",
    "    cbar.ax.set_xticklabels(ax.get_xticks())\n",
    "    plt.axis('off')\n",
    "    plt.show()\n",
    "except ValueError:\n",
    "    pass"
   ]
  },
  {
   "cell_type": "code",
   "execution_count": null,
   "id": "7a0fc42b",
   "metadata": {},
   "outputs": [],
   "source": [
    "sns.histplot(gwr_viz['coef_pluto_school'], kde=True, color='black')\n",
    "plt.title('Distribution of \"pluto_school\" Coefficient Values')"
   ]
  },
  {
   "cell_type": "code",
   "execution_count": null,
   "id": "b3e526af",
   "metadata": {},
   "outputs": [],
   "source": [
    "gwr_viz['coef_pluto_school'].quantile(0.25)"
   ]
  },
  {
   "cell_type": "code",
   "execution_count": null,
   "id": "3ac44d0d",
   "metadata": {},
   "outputs": [],
   "source": [
    "neg_social = gwr_viz[gwr_viz['coef_pluto_school'] < 0]\n",
    "pos_social = gwr_viz[gwr_viz['coef_pluto_school'] > 0]\n",
    "\n",
    "neg_social_means = social.iloc[:,1:][social['geoid'].isin(neg_social['geoid'])].mean()[features]\n",
    "pos_social_means = social.iloc[:,1:][social['geoid'].isin(pos_social['geoid'])].mean()[features]\n",
    "\n",
    "social_compare = pd.concat([pos_social_means,neg_social_means], axis=1)\n",
    "social_compare.columns = ['Negative Coef', 'Positive Coef']\n",
    "social_compare = social_compare.drop(index='noise')"
   ]
  },
  {
   "cell_type": "code",
   "execution_count": null,
   "id": "abbaf009",
   "metadata": {},
   "outputs": [],
   "source": [
    "ax = social_compare.div(social_compare.sum(axis=1), axis=0).plot.bar(figsize=(15,7), color=('dodgerblue','firebrick'))\n",
    "ax.set_title(f'Mean Variable Values By +/- Sign of \"pluto_school\" Coef \\n\\n\\\n",
    "Tracts w/ Negative Coefficent: {len(neg_social)}\\n Tracts w/ Positive Coefficient: {len(pos_social)}',color='black')\n",
    "ax.legend(bbox_to_anchor=(1.0, 1.0))\n",
    "plt.xticks(rotation=45)\n",
    "plt.show()"
   ]
  },
  {
   "cell_type": "code",
   "execution_count": null,
   "id": "9ed4d444",
   "metadata": {},
   "outputs": [],
   "source": [
    "## Visualize GWR coefficient values for \"pluto_vacant\" variable\n",
    "\n",
    "gwr_min = gwr_viz['coef_pluto_vacant'].min()\n",
    "gwr_max = gwr_viz['coef_pluto_vacant'].max()\n",
    "vmin = round(np.min(gwr_min), 3)\n",
    "vmax = round(np.max(gwr_max), 3)\n",
    "\n",
    "fig, ax = plt.subplots(nrows=1, ncols=1, figsize=(45,20))\n",
    "ax.set_title(f'GWR \"pluto_vacant\" Surface (BW: {str(gwr_bw)}) \\n\\n Coefficient Range: {str(vmin)} , {str(vmax)}', fontsize=40)\n",
    "\n",
    "cmap = plt.cm.seismic\n",
    "\n",
    "if (vmin < 0) & (vmax < 0):\n",
    "    cmap = truncate_colormap(cmap, 0.0, 0.5)\n",
    "elif (vmin > 0) & (vmax > 0):\n",
    "    cmap = truncate_colormap(cmap, 0.5, 1.0)\n",
    "else:\n",
    "    cmap = shift_colormap(cmap, start=0.0, midpoint=1 - vmax/(vmax + abs(vmin)), stop=1.)\n",
    "\n",
    "sm = plt.cm.ScalarMappable(cmap=cmap, norm=plt.Normalize(vmin=vmin, vmax=vmax))\n",
    "\n",
    "tract2.plot(**{'edgecolor':'black', 'alpha':.4}, ax=ax, color='gray', hatch='\\\\\\\\\\\\\\\\')\n",
    "gwr_viz.plot('coef_pluto_vacant', cmap=sm.cmap, ax=ax, vmin=vmin, vmax=vmax, **{'edgecolor':'black', 'alpha':.6})\n",
    "if (gwr_filtered_t[:,0] == 0).any():\n",
    "    gwr_viz[gwr_filtered_t[:,0] == 0].plot(color='lightgrey', ax=ax, **{'edgecolor':'black'})\n",
    " \n",
    "\n",
    "try:\n",
    "    fig.tight_layout()    \n",
    "    fig.subplots_adjust(right=0.9)\n",
    "    cax = fig.add_axes([0.63, 0.12, 0.04, 0.70])\n",
    "    cbar = fig.colorbar(sm, cax=cax)\n",
    "    cbar.ax.tick_params(labelsize=20) \n",
    "    cbar.ax.set_xticklabels(ax.get_xticks())\n",
    "    plt.axis('off')\n",
    "    plt.show()\n",
    "except ValueError:\n",
    "    pass"
   ]
  },
  {
   "cell_type": "code",
   "execution_count": null,
   "id": "a3a75149",
   "metadata": {},
   "outputs": [],
   "source": [
    "sns.histplot(gwr_viz['coef_pluto_vacant'], kde=True, color='black')\n",
    "plt.title('Distribution of \"pluto_vacant\" Coefficient Values')"
   ]
  },
  {
   "cell_type": "code",
   "execution_count": null,
   "id": "ea9b103b",
   "metadata": {},
   "outputs": [],
   "source": [
    "neg_social = gwr_viz[gwr_viz['coef_pluto_vacant'] < 0]\n",
    "pos_social = gwr_viz[gwr_viz['coef_pluto_vacant'] > 0]"
   ]
  },
  {
   "cell_type": "code",
   "execution_count": null,
   "id": "84910d74",
   "metadata": {},
   "outputs": [],
   "source": [
    "neg_social_means = social.iloc[:,1:][social['geoid'].isin(neg_social['geoid'])].mean()[features]\n",
    "pos_social_means = social.iloc[:,1:][social['geoid'].isin(pos_social['geoid'])].mean()[features]"
   ]
  },
  {
   "cell_type": "code",
   "execution_count": null,
   "id": "6bbdb28a",
   "metadata": {},
   "outputs": [],
   "source": [
    "social_compare = pd.concat([pos_social_means,neg_social_means], axis=1)\n",
    "social_compare.columns = ['Negative Coef', 'Positive Coef']\n",
    "social_compare = social_compare.drop(index='noise')"
   ]
  },
  {
   "cell_type": "code",
   "execution_count": null,
   "id": "8c6b5b95",
   "metadata": {
    "scrolled": false
   },
   "outputs": [],
   "source": [
    "ax = social_compare.div(social_compare.sum(axis=1), axis=0).plot.bar(figsize=(15,7), color=('dodgerblue','firebrick'))\n",
    "ax.set_title(f'Mean Variable Values By +/- Sign of \"pluto_vacant\" Coef \\n\\n\\\n",
    "Tracts w/ Negative Coefficent: {len(neg_social)}\\n Tracts w/ Positive Coefficient: {len(pos_social)}',color='black')\n",
    "ax.legend(bbox_to_anchor=(1.0, 1.0))\n",
    "plt.xticks(rotation=45)\n",
    "plt.show()"
   ]
  },
  {
   "cell_type": "code",
   "execution_count": null,
   "id": "ae7049c9",
   "metadata": {},
   "outputs": [],
   "source": [
    "## Visualize GWR coefficient values for \"pluto_cultural\" variable\n",
    "\n",
    "gwr_min = gwr_viz['coef_pluto_cultural'].min()\n",
    "gwr_max = gwr_viz['coef_pluto_cultural'].max()\n",
    "vmin = round(np.min(gwr_min), 3)\n",
    "vmax = round(np.max(gwr_max), 3)\n",
    "\n",
    "fig, ax = plt.subplots(nrows=1, ncols=1, figsize=(45,20))\n",
    "ax.set_title('GWR \"pluto_cultural\" Surface (BW: ' + str(gwr_bw) +')'+ \n",
    "             '\\n\\n Coefficient Range = '+ str(vmin) + ' , ' + str(vmax), fontsize=40)\n",
    "\n",
    "cmap = plt.cm.seismic\n",
    "\n",
    "if (vmin < 0) & (vmax < 0):\n",
    "    cmap = truncate_colormap(cmap, 0.0, 0.5)\n",
    "elif (vmin > 0) & (vmax > 0):\n",
    "    cmap = truncate_colormap(cmap, 0.5, 1.0)\n",
    "else:\n",
    "    cmap = shift_colormap(cmap, start=0.0, midpoint=1 - vmax/(vmax + abs(vmin)), stop=1.)\n",
    "\n",
    "sm = plt.cm.ScalarMappable(cmap=cmap, norm=plt.Normalize(vmin=vmin, vmax=vmax))\n",
    "\n",
    "tract2.plot(**{'edgecolor':'black', 'alpha':.4}, ax=ax, color='gray', hatch='\\\\\\\\\\\\\\\\')\n",
    "gwr_viz.plot('coef_pluto_cultural', cmap=sm.cmap, ax=ax, vmin=vmin, vmax=vmax, **{'edgecolor':'black', 'alpha':.6})\n",
    "if (gwr_filtered_t[:,0] == 0).any():\n",
    "    gwr_viz[gwr_filtered_t[:,0] == 0].plot(color='lightgrey', ax=ax, **{'edgecolor':'black'})\n",
    " \n",
    "\n",
    "try:\n",
    "    fig.tight_layout()    \n",
    "    fig.subplots_adjust(right=0.9)\n",
    "    cax = fig.add_axes([0.63, 0.12, 0.04, 0.70])\n",
    "    cbar = fig.colorbar(sm, cax=cax)\n",
    "    cbar.ax.tick_params(labelsize=20) \n",
    "    cbar.ax.set_xticklabels(ax.get_xticks())\n",
    "    plt.axis('off')\n",
    "    plt.show()\n",
    "except ValueError:\n",
    "    pass"
   ]
  },
  {
   "cell_type": "code",
   "execution_count": null,
   "id": "6ea7f917",
   "metadata": {},
   "outputs": [],
   "source": [
    "sns.histplot(gwr_viz['coef_pluto_cultural'], kde=True, color='black')\n",
    "plt.title('Distribution of \"pluto_cultural\" Coefficient Values')"
   ]
  },
  {
   "cell_type": "code",
   "execution_count": null,
   "id": "2fe634c6",
   "metadata": {},
   "outputs": [],
   "source": [
    "neg_social = gwr_viz[gwr_viz['coef_pluto_cultural'] < 0]\n",
    "pos_social = gwr_viz[gwr_viz['coef_pluto_cultural'] > 0]\n",
    "\n",
    "neg_social_means = social.iloc[:,1:][social['geoid'].isin(neg_social['geoid'])].mean()[features]\n",
    "pos_social_means = social.iloc[:,1:][social['geoid'].isin(pos_social['geoid'])].mean()[features]\n",
    "\n",
    "social_compare = pd.concat([pos_social_means,neg_social_means], axis=1)\n",
    "social_compare.columns = ['Negative Coef', 'Positive Coef']\n",
    "social_compare = social_compare.drop(index='noise')"
   ]
  },
  {
   "cell_type": "code",
   "execution_count": null,
   "id": "ff9dbf3d",
   "metadata": {},
   "outputs": [],
   "source": [
    "neg_social_means = social.iloc[:,1:][social['geoid'].isin(neg_social['geoid'])].mean()[features]\n",
    "pos_social_means = social.iloc[:,1:][social['geoid'].isin(pos_social['geoid'])].mean()[features]"
   ]
  },
  {
   "cell_type": "code",
   "execution_count": null,
   "id": "fdb41a9e",
   "metadata": {},
   "outputs": [],
   "source": [
    "social_compare = pd.concat([pos_social_means,neg_social_means], axis=1)\n",
    "social_compare.columns = ['Negative Coef', 'Positive Coef']\n",
    "social_compare = social_compare.drop(index='noise')"
   ]
  },
  {
   "cell_type": "code",
   "execution_count": null,
   "id": "2eda9bc2",
   "metadata": {},
   "outputs": [],
   "source": [
    "ax = social_compare.div(social_compare.sum(axis=1), axis=0).plot.bar(figsize=(15,7), color=('dodgerblue','firebrick'))\n",
    "ax.set_title(f'Mean Variable Values By +/- Sign of \"pluto_cultural\" Coef \\n\\n\\\n",
    "Tracts w/ Negative Coefficent: {len(neg_social)}\\n Tracts w/ Positive Coefficient: {len(pos_social)}',color='black')\n",
    "ax.legend(bbox_to_anchor=(1.0, 1.0))\n",
    "plt.xticks(rotation=45)\n",
    "plt.show()"
   ]
  },
  {
   "cell_type": "code",
   "execution_count": null,
   "id": "34e22bf7",
   "metadata": {},
   "outputs": [],
   "source": [
    "## Visualize GWR coefficient values for \"pluto_outdoor\" variable\n",
    "\n",
    "\n",
    "gwr_min = gwr_viz['coef_pluto_outdoor'].min()\n",
    "gwr_max = gwr_viz['coef_pluto_outdoor'].max()\n",
    "vmin = round(np.min(gwr_min), 3)\n",
    "vmax = round(np.max(gwr_max), 3)\n",
    "\n",
    "fig, ax = plt.subplots(nrows=1, ncols=1, figsize=(45,20))\n",
    "ax.set_title('GWR \"pluto_outdoor\" Surface (BW: ' + str(gwr_bw) +')'+ \n",
    "             '\\n\\n Coefficient Range = '+ str(vmin) + ' , ' + str(vmax), fontsize=40)\n",
    "\n",
    "cmap = plt.cm.seismic\n",
    "\n",
    "if (vmin < 0) & (vmax < 0):\n",
    "    cmap = truncate_colormap(cmap, 0.0, 0.5)\n",
    "elif (vmin > 0) & (vmax > 0):\n",
    "    cmap = truncate_colormap(cmap, 0.5, 1.0)\n",
    "else:\n",
    "    cmap = shift_colormap(cmap, start=0.0, midpoint=1 - vmax/(vmax + abs(vmin)), stop=1.)\n",
    "\n",
    "sm = plt.cm.ScalarMappable(cmap=cmap, norm=plt.Normalize(vmin=vmin, vmax=vmax))\n",
    "\n",
    "tract2.plot(**{'edgecolor':'black', 'alpha':.4}, ax=ax, color='gray', hatch='\\\\\\\\\\\\\\\\')\n",
    "gwr_viz.plot('coef_pluto_outdoor', cmap=sm.cmap, ax=ax, vmin=vmin, vmax=vmax, **{'edgecolor':'black', 'alpha':.6})\n",
    "if (gwr_filtered_t[:,0] == 0).any():\n",
    "    gwr_viz[gwr_filtered_t[:,0] == 0].plot(color='lightgrey', ax=ax, **{'edgecolor':'black'})\n",
    " \n",
    "\n",
    "try:\n",
    "    fig.tight_layout()    \n",
    "    fig.subplots_adjust(right=0.9)\n",
    "    cax = fig.add_axes([0.63, 0.12, 0.04, 0.70])\n",
    "    cbar = fig.colorbar(sm, cax=cax)\n",
    "    cbar.ax.tick_params(labelsize=20) \n",
    "    cbar.ax.set_xticklabels(ax.get_xticks())\n",
    "    plt.axis('off')\n",
    "    plt.show()\n",
    "except ValueError:\n",
    "    pass"
   ]
  },
  {
   "cell_type": "code",
   "execution_count": null,
   "id": "c2e7497d",
   "metadata": {},
   "outputs": [],
   "source": [
    "sns.histplot(gwr_viz['coef_pluto_outdoor'], kde=True, color='black')\n",
    "plt.title('Distribution of \"pluto_outdoor\" Coefficient Values')"
   ]
  },
  {
   "cell_type": "code",
   "execution_count": null,
   "id": "d24a36db",
   "metadata": {},
   "outputs": [],
   "source": [
    "neg_social = gwr_viz[gwr_viz['coef_pluto_outdoor'] < 0]\n",
    "pos_social = gwr_viz[gwr_viz['coef_pluto_outdoor'] > 0]\n",
    "\n",
    "neg_social_means = social.iloc[:,1:][social['geoid'].isin(neg_social['geoid'])].mean()[features]\n",
    "pos_social_means = social.iloc[:,1:][social['geoid'].isin(pos_social['geoid'])].mean()[features]\n",
    "\n",
    "social_compare = pd.concat([pos_social_means,neg_social_means], axis=1)\n",
    "social_compare.columns = ['Negative Coef', 'Positive Coef']\n",
    "social_compare = social_compare.drop(index='noise')"
   ]
  },
  {
   "cell_type": "code",
   "execution_count": null,
   "id": "6d9fd09d",
   "metadata": {},
   "outputs": [],
   "source": [
    "ax = social_compare.div(social_compare.sum(axis=1), axis=0).plot.bar(figsize=(15,7), color=('dodgerblue','firebrick'))\n",
    "ax.set_title(f'Mean Variable Values By +/- Sign of \"pluto_outdoor\" Coef \\n\\n\\\n",
    "Tracts w/ Negative Coefficent: {len(neg_social)}\\n Tracts w/ Positive Coefficient: {len(pos_social)}',color='black')\n",
    "ax.legend(bbox_to_anchor=(1.0, 1.0))\n",
    "plt.xticks(rotation=45)\n",
    "plt.show()"
   ]
  },
  {
   "cell_type": "code",
   "execution_count": null,
   "id": "96442b3c",
   "metadata": {},
   "outputs": [],
   "source": [
    "fig, ax = plt.subplots(3,2, figsize=(10,8))\n",
    "\n",
    "\n",
    "sns.histplot(gwr_viz['coef_nc_agriculture'], kde=True, color='black', ax=ax[0,0])\n",
    "sns.histplot(gwr_viz['coef_pluto_vacant'], kde=True, color='black', ax=ax[0,1])\n",
    "sns.histplot(gwr_viz['coef_pluto_school'], kde=True, color='black', ax=ax[1,1])\n",
    "sns.histplot(gwr_viz['coef_pluto_church'], kde=True, color='black', ax=ax[1,0])\n",
    "sns.histplot(gwr_viz['coef_pluto_cultural'], kde=True, color='black', ax=ax[2,1])\n",
    "sns.histplot(gwr_viz['coef_pluto_outdoor'], kde=True, color='black', ax=ax[2,0])\n",
    "plt.tight_layout()"
   ]
  },
  {
   "cell_type": "markdown",
   "id": "bb9ee9fd",
   "metadata": {},
   "source": [
    "# Lasso Regression"
   ]
  },
  {
   "cell_type": "code",
   "execution_count": null,
   "id": "a1b2563f",
   "metadata": {},
   "outputs": [],
   "source": [
    "## Define Target and Explanatory Variables\n",
    "\n",
    "X = social[features]\n",
    "y = social['cdc_mental']\n",
    "\n",
    "X_train, X_test, y_train, y_test = train_test_split(X, y, test_size = 0.2, random_state=10)\n",
    "\n",
    "## Standardize values\n",
    "\n",
    "sc = StandardScaler()\n",
    "sx = sc.fit(X_train)\n",
    "\n",
    "X_train_sc = sx.transform(X_train)\n",
    "X_test_sc = sx.transform(X_test)\n",
    "\n",
    "## Perform Cross Validation ot find optimal parameter\n",
    "\n",
    "lasso = LassoCV(n_alphas=1000, random_state=10)\n",
    "lasso.fit(X_train_sc, y_train)"
   ]
  },
  {
   "cell_type": "code",
   "execution_count": null,
   "id": "86eeef8f",
   "metadata": {},
   "outputs": [],
   "source": [
    "predictions = lasso.predict(X_test_sc)\n",
    "r2 = r2_score(y_test, predictions)\n",
    "mae = mean_absolute_error(y_test, predictions)\n",
    "rmse = np.sqrt(mean_squared_error(y_test, predictions))\n",
    "print(f'Out of sample R^2 = {r2:.4f}, MAE = {mae: .4f}, RMSE = {rmse: .4f}')"
   ]
  },
  {
   "cell_type": "code",
   "execution_count": null,
   "id": "99b6bef2",
   "metadata": {},
   "outputs": [],
   "source": [
    "## Run model with optimal alpha value over cross-validation\n",
    "\n",
    "model = Lasso(lasso.alpha_)\n",
    "cv_model = cross_validate(model, X_train_sc, y_train, cv=RepeatedKFold(), return_estimator=True)"
   ]
  },
  {
   "cell_type": "code",
   "execution_count": null,
   "id": "b225fbd9",
   "metadata": {},
   "outputs": [],
   "source": [
    "## Visualize model fit\n",
    "\n",
    "model.fit(X_train_sc, y_train)\n",
    "\n",
    "y_pred = model.predict(X_train_sc)\n",
    "mae = mean_absolute_error(y_train, y_pred)\n",
    "string_score = f\"MAE on training set: {mae:.2f}\"\n",
    "\n",
    "y_pred = model.predict(X_test_sc)\n",
    "mae = mean_absolute_error(y_test, y_pred)\n",
    "\n",
    "string_score += f\"\\nMAE on testing set: {mae:.2f}\"\n",
    "\n",
    "y_pred = model.predict(X_train_sc)\n",
    "r2 = r2_score(y_train, y_pred)\n",
    "string_score += f\"\\n\\n R2 on training set: {r2:.2f}\"\n",
    "\n",
    "y_pred = model.predict(X_test_sc)\n",
    "r2 = r2_score(y_test, y_pred)\n",
    "string_score += f\"\\n R2 on testing set: {r2:.2f}\"\n",
    "\n",
    "fig, ax = plt.subplots(figsize=(7, 7))\n",
    "plt.scatter(y_test, y_pred, alpha=0.5)\n",
    "ax.plot([0, 1], [0, 1], transform=ax.transAxes, ls=\"--\", c=\"tab:red\")\n",
    "\n",
    "plt.text(3, 20, string_score)\n",
    "\n",
    "plt.title(f\"Lasso Regression (alpha={lasso.alpha_:.5f}), normalized variables\\n\")\n",
    "plt.ylabel(\"Model predictions\")\n",
    "plt.xlabel(\"Reported poor mental health\")\n",
    "plt.xlim([0, 27])\n",
    "plt.ylim([0, 27])\n",
    "plt.show()"
   ]
  },
  {
   "cell_type": "code",
   "execution_count": null,
   "id": "b57aef0e",
   "metadata": {},
   "outputs": [],
   "source": [
    "## Visualize feature coeffeicients\n",
    "\n",
    "coefficients = {\n",
    "    'feat': features,\n",
    "    'coef': lasso.coef_,\n",
    "    'abs': np.abs(lasso.coef_),\n",
    "    'std': np.std([est.coef_ for est in cv_model['estimator']], axis=0)\n",
    "}\n",
    "coefficients = pd.DataFrame(coefficients).sort_values('abs')\n",
    "noise_coef = coefficients.loc[coefficients['feat'] == 'noise', 'abs'].values\n",
    "color = np.where(np.array(coefficients['abs']) > noise_coef, 'tab:blue', 'tab:red')\n",
    "\n",
    "fig, ax = plt.subplots(figsize=(7, 8))\n",
    "coefficients.plot.barh('feat', 'coef', xerr='std', color=color, ax=ax, legend=False)\n",
    "plt.axvline(0, color='grey', linestyle='--')\n",
    "ax.set(title=f\"Feature importance, Lasso model\\n\", xlabel=\"Normalized coeficient\", ylabel=\"\")\n",
    "fig.tight_layout()"
   ]
  },
  {
   "cell_type": "markdown",
   "id": "d6b9b5e9",
   "metadata": {},
   "source": [
    "# Random Forest"
   ]
  },
  {
   "cell_type": "code",
   "execution_count": null,
   "id": "62f94e8c",
   "metadata": {},
   "outputs": [],
   "source": [
    "## Find optimal parameters for Random Forest\n",
    "\n",
    "param_grid = {\n",
    "    'n_estimators': [100, 500, 1000],\n",
    "    'max_depth': [10, 20, 50],\n",
    "    'max_features': [.33, .5]\n",
    "}\n",
    "\n",
    "forest = RandomForestRegressor(random_state=10)\n",
    "forest_grid = GridSearchCV(forest, param_grid, cv=5, verbose=1)\n",
    "forest_grid.fit(X_train, y_train)"
   ]
  },
  {
   "cell_type": "code",
   "execution_count": null,
   "id": "5ec3d5a7",
   "metadata": {},
   "outputs": [],
   "source": [
    "forest_grid.best_params_"
   ]
  },
  {
   "cell_type": "code",
   "execution_count": null,
   "id": "a5294e73",
   "metadata": {},
   "outputs": [],
   "source": [
    "forest_best = forest_grid.best_estimator_\n",
    "predictions = forest_best.predict(X_test)\n",
    "mae = mean_absolute_error(y_test, predictions)\n",
    "rmse = np.sqrt(mean_squared_error(y_test, predictions))\n",
    "print(f'MAE = {mae: .4f}, RMSE = {rmse:.4f}')"
   ]
  },
  {
   "cell_type": "code",
   "execution_count": null,
   "id": "6683c4ed",
   "metadata": {},
   "outputs": [],
   "source": [
    "## Visualize feature importances\n",
    "\n",
    "importances = {\n",
    "    'feat': features,\n",
    "    'mean': forest_best.feature_importances_,\n",
    "    'std': np.std([tree.feature_importances_ for tree in forest_best.estimators_], axis=0)\n",
    "}\n",
    "importances = pd.DataFrame(importances).sort_values('mean')\n",
    "noise_mean = importances.loc[importances['feat'] == 'noise', 'mean'].values\n",
    "color = np.where(np.array(importances['mean']) > noise_mean, 'tab:blue', 'tab:red')\n",
    "\n",
    "fig, ax = plt.subplots(figsize=(7, 8))\n",
    "importances.plot.barh('feat', 'mean', xerr='std', color=color, legend=False, ax=ax)\n",
    "ax.set(title=\"Feature importances using MDI, Random Forest\\n\", xlabel=\"Mean decrease in impurity\", ylabel=\"\")\n",
    "fig.tight_layout()"
   ]
  }
 ],
 "metadata": {
  "kernelspec": {
   "display_name": "Python 3",
   "language": "python",
   "name": "python3"
  },
  "language_info": {
   "codemirror_mode": {
    "name": "ipython",
    "version": 3
   },
   "file_extension": ".py",
   "mimetype": "text/x-python",
   "name": "python",
   "nbconvert_exporter": "python",
   "pygments_lexer": "ipython3",
   "version": "3.7.3"
  }
 },
 "nbformat": 4,
 "nbformat_minor": 5
}
